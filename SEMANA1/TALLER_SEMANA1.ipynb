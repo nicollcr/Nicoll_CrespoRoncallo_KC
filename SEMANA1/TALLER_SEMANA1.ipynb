{
  "nbformat": 4,
  "nbformat_minor": 0,
  "metadata": {
    "colab": {
      "name": "TALLER_SEMANA1.ipynb",
      "provenance": [],
      "collapsed_sections": [],
      "authorship_tag": "ABX9TyMWCn62dHtmrfns49HN5Bvi",
      "include_colab_link": true
    },
    "kernelspec": {
      "name": "python3",
      "display_name": "Python 3"
    },
    "language_info": {
      "name": "python"
    }
  },
  "cells": [
    {
      "cell_type": "markdown",
      "metadata": {
        "id": "view-in-github",
        "colab_type": "text"
      },
      "source": [
        "<a href=\"https://colab.research.google.com/github/nicollcr/Nicoll_CrespoRoncallo_KC/blob/main/SEMANA1/TALLER_SEMANA1.ipynb\" target=\"_parent\"><img src=\"https://colab.research.google.com/assets/colab-badge.svg\" alt=\"Open In Colab\"/></a>"
      ]
    },
    {
      "cell_type": "markdown",
      "metadata": {
        "id": "rQZxpcMC5QXB"
      },
      "source": [
        "Taller SEMANA 1 \n",
        "**Nicoll Crespo Roncallo**"
      ]
    },
    {
      "cell_type": "code",
      "metadata": {
        "id": "RwrfwdmR5PeI"
      },
      "source": [
        "import numpy as np \n",
        "import time"
      ],
      "execution_count": 2,
      "outputs": []
    },
    {
      "cell_type": "markdown",
      "metadata": {
        "id": "72hIjPlzigDj"
      },
      "source": [
        "**1.\tTienen el siguiente arreglo:**\n",
        "\n",
        "arr = np.array([0, 1, 2, 3, 4, 5, 6, 7, 8, 9])\n",
        "\n",
        "Como es posible obtener el siguiente resultado:\n",
        "\n",
        "array([ 0, -1,  2, -1,  4, -1,  6, -1,  8, -1])\n"
      ]
    },
    {
      "cell_type": "code",
      "metadata": {
        "colab": {
          "base_uri": "https://localhost:8080/"
        },
        "id": "bcwYtgrQ5bWI",
        "outputId": "083701bc-f662-4012-bc48-1b4895774955"
      },
      "source": [
        "# 1. \n",
        "arr = np.array([0, 1, 2, 3, 4, 5, 6, 7, 8, 9])\n",
        "print(arr)\n",
        "print('-----------Solucion--------------')\n",
        "arr[1:10:2] = -1\n",
        "arr"
      ],
      "execution_count": 18,
      "outputs": [
        {
          "output_type": "stream",
          "text": [
            "[0 1 2 3 4 5 6 7 8 9]\n",
            "-----------Solucion--------------\n"
          ],
          "name": "stdout"
        },
        {
          "output_type": "execute_result",
          "data": {
            "text/plain": [
              "array([ 0, -1,  2, -1,  4, -1,  6, -1,  8, -1])"
            ]
          },
          "metadata": {
            "tags": []
          },
          "execution_count": 18
        }
      ]
    },
    {
      "cell_type": "markdown",
      "metadata": {
        "id": "2ciLJw_njQum"
      },
      "source": [
        "**2.\tTienen el siguiente input:**\n",
        "\n",
        "> np.arange(10)\n",
        "\n",
        "Como se puede hacer para obtener el siguiente resultado:\n",
        "\n",
        "> array([[0, 1, 2, 3, 4],\n",
        "\n",
        ">        [5, 6, 7, 8, 9]])\n"
      ]
    },
    {
      "cell_type": "code",
      "metadata": {
        "colab": {
          "base_uri": "https://localhost:8080/"
        },
        "id": "m_ne1Mw25dSV",
        "outputId": "87235b28-c92f-4d80-8b85-219fbe32e5cc"
      },
      "source": [
        "# 2. \n",
        "print(np.arange(10))\n",
        "print('-----------Solucion--------------')\n",
        "np.arange(10).reshape((2,5))"
      ],
      "execution_count": 17,
      "outputs": [
        {
          "output_type": "stream",
          "text": [
            "[0 1 2 3 4 5 6 7 8 9]\n",
            "-----------Solucion--------------\n"
          ],
          "name": "stdout"
        },
        {
          "output_type": "execute_result",
          "data": {
            "text/plain": [
              "array([[0, 1, 2, 3, 4],\n",
              "       [5, 6, 7, 8, 9]])"
            ]
          },
          "metadata": {
            "tags": []
          },
          "execution_count": 17
        }
      ]
    },
    {
      "cell_type": "markdown",
      "metadata": {
        "id": "j_HqGnGUj50U"
      },
      "source": [
        "**3.\tCon base en el siguiente input:**\n",
        "\n",
        "a = np.arange(10).reshape(2,-1)\n",
        "\n",
        "b = np.repeat(1, 10).reshape(2,-1)\n",
        "\n",
        "Obtener el siguiente resultado: \n",
        "\n",
        " array([[0, 1, 2, 3, 4],\n",
        ">        [5, 6, 7, 8, 9],\n",
        ">        [1, 1, 1, 1, 1],\n",
        ">        [1, 1, 1, 1, 1]])\n"
      ]
    },
    {
      "cell_type": "code",
      "metadata": {
        "colab": {
          "base_uri": "https://localhost:8080/"
        },
        "id": "94xofpnK5fxA",
        "outputId": "e9063f48-3361-4019-b0f1-ef38de00e316"
      },
      "source": [
        "# 3. \n",
        "a = np.arange(10).reshape(2,-1)\n",
        "print(a)\n",
        "b = np.repeat(1, 10).reshape(2, -1)\n",
        "print(b)\n",
        "print('-----------Solucion--------------')\n",
        "np.concatenate((a, b), axis=0)"
      ],
      "execution_count": 16,
      "outputs": [
        {
          "output_type": "stream",
          "text": [
            "[[0 1 2 3 4]\n",
            " [5 6 7 8 9]]\n",
            "[[1 1 1 1 1]\n",
            " [1 1 1 1 1]]\n",
            "-----------Solucion--------------\n"
          ],
          "name": "stdout"
        },
        {
          "output_type": "execute_result",
          "data": {
            "text/plain": [
              "array([[0, 1, 2, 3, 4],\n",
              "       [5, 6, 7, 8, 9],\n",
              "       [1, 1, 1, 1, 1],\n",
              "       [1, 1, 1, 1, 1]])"
            ]
          },
          "metadata": {
            "tags": []
          },
          "execution_count": 16
        }
      ]
    },
    {
      "cell_type": "markdown",
      "metadata": {
        "id": "VPk2chX5kdfs"
      },
      "source": [
        "**4.\tCon base en el siguiente input:**\n",
        "\n",
        "a = np.array([1,2,3,2,3,4,3,4,5,6])\n",
        "\n",
        "b = np.array([7,2,10,2,7,4,9,4,9,8])\n",
        "\n",
        "Obtener el siguiente output: \n",
        "\n",
        "array([2, 4])\n",
        "\n"
      ]
    },
    {
      "cell_type": "code",
      "metadata": {
        "colab": {
          "base_uri": "https://localhost:8080/"
        },
        "id": "JsA2SUQY6t9k",
        "outputId": "71880df2-abf1-4179-a6b1-b92083a8d8fa"
      },
      "source": [
        "# 4\n",
        "a = np.array([1, 2, 3, 2, 3, 4, 3, 4, 5, 6])\n",
        "print(a)\n",
        "b = np.array([7, 2, 10, 2, 7, 4, 9, 4, 9, 8])\n",
        "print(b)\n",
        "print('-----------Solucion--------------')\n",
        "c = np.extract(a==b, a)\n",
        "np.unique(c)"
      ],
      "execution_count": 15,
      "outputs": [
        {
          "output_type": "stream",
          "text": [
            "[1 2 3 2 3 4 3 4 5 6]\n",
            "[ 7  2 10  2  7  4  9  4  9  8]\n",
            "-----------Solucion--------------\n"
          ],
          "name": "stdout"
        },
        {
          "output_type": "execute_result",
          "data": {
            "text/plain": [
              "array([2, 4])"
            ]
          },
          "metadata": {
            "tags": []
          },
          "execution_count": 15
        }
      ]
    },
    {
      "cell_type": "markdown",
      "metadata": {
        "id": "m1yXSkyQkyw2"
      },
      "source": [
        "**5.\tDel siguiente input:**\n",
        "\n",
        "a = np.array([1,2,3,4,5])\n",
        "\n",
        "b = np.array([5,6,7,8,9])\n",
        "\n",
        "Obtener el siguiente output:\n",
        "\n",
        "array([1,2,3,4])\n"
      ]
    },
    {
      "cell_type": "code",
      "metadata": {
        "colab": {
          "base_uri": "https://localhost:8080/"
        },
        "id": "bTlLJyP16w9q",
        "outputId": "13b52483-8a43-4d56-df39-63bc5ac6ac7c"
      },
      "source": [
        "# 5\n",
        "a = np.array([1, 2, 3, 4, 5])\n",
        "b = np.array([5, 6, 7, 8, 9])\n",
        "print(a)\n",
        "print(b)\n",
        "print('-----------Solucion--------------')\n",
        "np.extract((a<5) | (b<5), a)"
      ],
      "execution_count": 14,
      "outputs": [
        {
          "output_type": "stream",
          "text": [
            "[1 2 3 4 5]\n",
            "[5 6 7 8 9]\n",
            "-----------Solucion--------------\n"
          ],
          "name": "stdout"
        },
        {
          "output_type": "execute_result",
          "data": {
            "text/plain": [
              "array([1, 2, 3, 4])"
            ]
          },
          "metadata": {
            "tags": []
          },
          "execution_count": 14
        }
      ]
    },
    {
      "cell_type": "markdown",
      "metadata": {
        "id": "cQOL31MPlAxt"
      },
      "source": [
        "**6.\tCon el siguiente input:**\n",
        "\n",
        "a = np.array([2, 6, 1, 9, 10, 3, 27])\n",
        "\n",
        "Obtener:\n",
        "\n",
        "(array([6, 9, 10]),)\n"
      ]
    },
    {
      "cell_type": "code",
      "metadata": {
        "colab": {
          "base_uri": "https://localhost:8080/"
        },
        "id": "UNwNyLQ96yav",
        "outputId": "86255a27-e2c5-4aa8-bd1a-fa7980bbb825"
      },
      "source": [
        "# 6\n",
        "a = np.array([2, 6, 1, 9, 10, 3, 27])\n",
        "print(a)\n",
        "print('-----------Solucion--------------')\n",
        "a[np.where((a>3) & (a<27))],"
      ],
      "execution_count": 12,
      "outputs": [
        {
          "output_type": "stream",
          "text": [
            "[ 2  6  1  9 10  3 27]\n",
            "-----------Solucion--------------\n"
          ],
          "name": "stdout"
        },
        {
          "output_type": "execute_result",
          "data": {
            "text/plain": [
              "(array([ 6,  9, 10]),)"
            ]
          },
          "metadata": {
            "tags": []
          },
          "execution_count": 12
        }
      ]
    },
    {
      "cell_type": "markdown",
      "metadata": {
        "id": "b-4dOkFvlHtS"
      },
      "source": [
        "**7.\tInvertir las filas de un arreglo de matriz 2D**\n",
        "\n",
        "arr = np.arange(9).reshape(3,3)\n",
        "\n",
        "Output deseado:\n",
        "\n",
        "array([[6, 7, 8],\n",
        "\n",
        "       [3, 4, 5],\n",
        "       [0, 1, 2]])\n"
      ]
    },
    {
      "cell_type": "code",
      "metadata": {
        "colab": {
          "base_uri": "https://localhost:8080/"
        },
        "id": "dhjXvfI06zb4",
        "outputId": "5622c739-a173-48d6-d543-8217b57600c6"
      },
      "source": [
        "#7\n",
        "arr = np.arange(9).reshape(3,3)\n",
        "print(arr)\n",
        "print('-----------Solucion--------------')\n",
        "arr[::-1]"
      ],
      "execution_count": 13,
      "outputs": [
        {
          "output_type": "stream",
          "text": [
            "[[0 1 2]\n",
            " [3 4 5]\n",
            " [6 7 8]]\n",
            "-----------Solucion--------------\n"
          ],
          "name": "stdout"
        },
        {
          "output_type": "execute_result",
          "data": {
            "text/plain": [
              "array([[6, 7, 8],\n",
              "       [3, 4, 5],\n",
              "       [0, 1, 2]])"
            ]
          },
          "metadata": {
            "tags": []
          },
          "execution_count": 13
        }
      ]
    }
  ]
}