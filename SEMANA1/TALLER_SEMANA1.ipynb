{
  "nbformat": 4,
  "nbformat_minor": 0,
  "metadata": {
    "colab": {
      "name": "TALLER_SEMANA1.ipynb",
      "provenance": [],
      "collapsed_sections": [],
      "authorship_tag": "ABX9TyMngzOBXso/2TgSXigJnxjX",
      "include_colab_link": true
    },
    "kernelspec": {
      "name": "python3",
      "display_name": "Python 3"
    },
    "language_info": {
      "name": "python"
    }
  },
  "cells": [
    {
      "cell_type": "markdown",
      "metadata": {
        "id": "view-in-github",
        "colab_type": "text"
      },
      "source": [
        "<a href=\"https://colab.research.google.com/github/nicollcr/Nicoll_CrespoRoncallo_KC/blob/main/SEMANA1/TALLER_SEMANA1.ipynb\" target=\"_parent\"><img src=\"https://colab.research.google.com/assets/colab-badge.svg\" alt=\"Open In Colab\"/></a>"
      ]
    },
    {
      "cell_type": "markdown",
      "metadata": {
        "id": "rQZxpcMC5QXB"
      },
      "source": [
        "Taller SEMANA 1 \n",
        "**Nicoll Crespo Roncallo**"
      ]
    },
    {
      "cell_type": "code",
      "metadata": {
        "id": "RwrfwdmR5PeI"
      },
      "source": [
        "import numpy as np \n",
        "import time"
      ],
      "execution_count": 1,
      "outputs": []
    },
    {
      "cell_type": "markdown",
      "metadata": {
        "id": "72hIjPlzigDj"
      },
      "source": [
        "**1.\tTienen el siguiente arreglo:**\n",
        "\n",
        "arr = np.array([0, 1, 2, 3, 4, 5, 6, 7, 8, 9])\n",
        "\n",
        "Como es posible obtener el siguiente resultado:\n",
        "\n",
        "array([ 0, -1,  2, -1,  4, -1,  6, -1,  8, -1])\n"
      ]
    },
    {
      "cell_type": "code",
      "metadata": {
        "colab": {
          "base_uri": "https://localhost:8080/"
        },
        "id": "bcwYtgrQ5bWI",
        "outputId": "74182d7e-6c68-4937-aff9-023029d8ae29"
      },
      "source": [
        "# 1. \n",
        "arr = np.array([0, 1, 2, 3, 4, 5, 6, 7, 8, 9])\n",
        "print(arr)\n",
        "print('-----------Solucion--------------')\n",
        "arr[1:10:2] = -1\n",
        "arr"
      ],
      "execution_count": 102,
      "outputs": [
        {
          "output_type": "stream",
          "text": [
            "[0 1 2 3 4 5 6 7 8 9]\n",
            "-----------Solucion--------------\n"
          ],
          "name": "stdout"
        },
        {
          "output_type": "execute_result",
          "data": {
            "text/plain": [
              "array([ 0, -1,  2, -1,  4, -1,  6, -1,  8, -1])"
            ]
          },
          "metadata": {
            "tags": []
          },
          "execution_count": 102
        }
      ]
    },
    {
      "cell_type": "markdown",
      "metadata": {
        "id": "2ciLJw_njQum"
      },
      "source": [
        "**2.\tTienen el siguiente input:**\n",
        "\n",
        "> np.arange(10)\n",
        "\n",
        "Como se puede hacer para obtener el siguiente resultado:\n",
        "\n",
        "> array([[0, 1, 2, 3, 4],\n",
        "\n",
        ">        [5, 6, 7, 8, 9]])\n"
      ]
    },
    {
      "cell_type": "code",
      "metadata": {
        "colab": {
          "base_uri": "https://localhost:8080/"
        },
        "id": "m_ne1Mw25dSV",
        "outputId": "f4ec0579-06ad-42e2-c2d5-84abf11a415c"
      },
      "source": [
        "# 2. \n",
        "print(np.arange(10))\n",
        "print('-----------Solucion--------------')\n",
        "np.arange(10).reshape((2,5))"
      ],
      "execution_count": 103,
      "outputs": [
        {
          "output_type": "stream",
          "text": [
            "[0 1 2 3 4 5 6 7 8 9]\n",
            "-----------Solucion--------------\n"
          ],
          "name": "stdout"
        },
        {
          "output_type": "execute_result",
          "data": {
            "text/plain": [
              "array([[0, 1, 2, 3, 4],\n",
              "       [5, 6, 7, 8, 9]])"
            ]
          },
          "metadata": {
            "tags": []
          },
          "execution_count": 103
        }
      ]
    },
    {
      "cell_type": "markdown",
      "metadata": {
        "id": "j_HqGnGUj50U"
      },
      "source": [
        "**3.\tCon base en el siguiente input:**\n",
        "\n",
        "a = np.arange(10).reshape(2,-1)\n",
        "\n",
        "b = np.repeat(1, 10).reshape(2,-1)\n",
        "\n",
        "Obtener el siguiente resultado: \n",
        "\n",
        " array([[0, 1, 2, 3, 4],\n",
        ">        [5, 6, 7, 8, 9],\n",
        ">        [1, 1, 1, 1, 1],\n",
        ">        [1, 1, 1, 1, 1]])\n"
      ]
    },
    {
      "cell_type": "code",
      "metadata": {
        "colab": {
          "base_uri": "https://localhost:8080/"
        },
        "id": "94xofpnK5fxA",
        "outputId": "5d71eedc-e25f-41b5-bd5d-e29eaced7f6e"
      },
      "source": [
        "# 3. \n",
        "a = np.arange(10).reshape(2,-1)\n",
        "print(a)\n",
        "b = np.repeat(1, 10).reshape(2, -1)\n",
        "print(b)\n",
        "print('-----------Solucion--------------')\n",
        "np.concatenate((a, b), axis=0)"
      ],
      "execution_count": 104,
      "outputs": [
        {
          "output_type": "stream",
          "text": [
            "[[0 1 2 3 4]\n",
            " [5 6 7 8 9]]\n",
            "[[1 1 1 1 1]\n",
            " [1 1 1 1 1]]\n",
            "-----------Solucion--------------\n"
          ],
          "name": "stdout"
        },
        {
          "output_type": "execute_result",
          "data": {
            "text/plain": [
              "array([[0, 1, 2, 3, 4],\n",
              "       [5, 6, 7, 8, 9],\n",
              "       [1, 1, 1, 1, 1],\n",
              "       [1, 1, 1, 1, 1]])"
            ]
          },
          "metadata": {
            "tags": []
          },
          "execution_count": 104
        }
      ]
    },
    {
      "cell_type": "markdown",
      "metadata": {
        "id": "VPk2chX5kdfs"
      },
      "source": [
        "**4.\tCon base en el siguiente input:**\n",
        "\n",
        "a = np.array([1,2,3,2,3,4,3,4,5,6])\n",
        "\n",
        "b = np.array([7,2,10,2,7,4,9,4,9,8])\n",
        "\n",
        "Obtener el siguiente output: \n",
        "\n",
        "array([2, 4])\n",
        "\n"
      ]
    },
    {
      "cell_type": "code",
      "metadata": {
        "colab": {
          "base_uri": "https://localhost:8080/"
        },
        "id": "JsA2SUQY6t9k",
        "outputId": "d1378d86-4008-45b6-898e-d10bd35205a3"
      },
      "source": [
        "# 4\n",
        "a = np.array([1, 2, 3, 2, 3, 4, 3, 4, 5, 6])\n",
        "print(a)\n",
        "b = np.array([7, 2, 10, 2, 7, 4, 9, 4, 9, 8])\n",
        "print(b)\n",
        "print('-----------Solucion--------------')\n",
        "c = np.extract(a==b, a)\n",
        "np.unique(c)"
      ],
      "execution_count": 105,
      "outputs": [
        {
          "output_type": "stream",
          "text": [
            "[1 2 3 2 3 4 3 4 5 6]\n",
            "[ 7  2 10  2  7  4  9  4  9  8]\n",
            "-----------Solucion--------------\n"
          ],
          "name": "stdout"
        },
        {
          "output_type": "execute_result",
          "data": {
            "text/plain": [
              "array([2, 4])"
            ]
          },
          "metadata": {
            "tags": []
          },
          "execution_count": 105
        }
      ]
    },
    {
      "cell_type": "markdown",
      "metadata": {
        "id": "m1yXSkyQkyw2"
      },
      "source": [
        "**5.\tDel siguiente input:**\n",
        "\n",
        "a = np.array([1,2,3,4,5])\n",
        "\n",
        "b = np.array([5,6,7,8,9])\n",
        "\n",
        "Obtener el siguiente output:\n",
        "\n",
        "array([1,2,3,4])\n"
      ]
    },
    {
      "cell_type": "code",
      "metadata": {
        "colab": {
          "base_uri": "https://localhost:8080/"
        },
        "id": "bTlLJyP16w9q",
        "outputId": "a1c97595-fbc0-4dfa-9096-ec5400b55124"
      },
      "source": [
        "# 5\n",
        "a = np.array([1, 2, 3, 4, 5])\n",
        "b = np.array([5, 6, 7, 8, 9])\n",
        "print(a)\n",
        "print(b)\n",
        "print('-----------Solucion--------------')\n",
        "np.extract((a<5) | (b<5), a)"
      ],
      "execution_count": 106,
      "outputs": [
        {
          "output_type": "stream",
          "text": [
            "[1 2 3 4 5]\n",
            "[5 6 7 8 9]\n",
            "-----------Solucion--------------\n"
          ],
          "name": "stdout"
        },
        {
          "output_type": "execute_result",
          "data": {
            "text/plain": [
              "array([1, 2, 3, 4])"
            ]
          },
          "metadata": {
            "tags": []
          },
          "execution_count": 106
        }
      ]
    },
    {
      "cell_type": "markdown",
      "metadata": {
        "id": "cQOL31MPlAxt"
      },
      "source": [
        "**6.\tCon el siguiente input:**\n",
        "\n",
        "a = np.array([2, 6, 1, 9, 10, 3, 27])\n",
        "\n",
        "Obtener:\n",
        "\n",
        "(array([6, 9, 10]),)\n"
      ]
    },
    {
      "cell_type": "code",
      "metadata": {
        "colab": {
          "base_uri": "https://localhost:8080/"
        },
        "id": "UNwNyLQ96yav",
        "outputId": "796f456a-9a03-410d-d8a2-054526844db3"
      },
      "source": [
        "# 6\n",
        "a = np.array([2, 6, 1, 9, 10, 3, 27])\n",
        "print('-----------Solucion--------------')\n",
        "(a[np.where((a>3) & (a<27))],)"
      ],
      "execution_count": 107,
      "outputs": [
        {
          "output_type": "stream",
          "text": [
            "-----------Solucion--------------\n"
          ],
          "name": "stdout"
        },
        {
          "output_type": "execute_result",
          "data": {
            "text/plain": [
              "(array([ 6,  9, 10]),)"
            ]
          },
          "metadata": {
            "tags": []
          },
          "execution_count": 107
        }
      ]
    },
    {
      "cell_type": "markdown",
      "metadata": {
        "id": "b-4dOkFvlHtS"
      },
      "source": [
        "**7.\tInvertir las filas de un arreglo de matriz 2D**\n",
        "\n",
        "arr = np.arange(9).reshape(3,3)\n",
        "\n",
        "Output deseado:\n",
        "\n",
        "array([[6, 7, 8],\n",
        "\n",
        "       [3, 4, 5],\n",
        "       [0, 1, 2]])\n"
      ]
    },
    {
      "cell_type": "code",
      "metadata": {
        "colab": {
          "base_uri": "https://localhost:8080/"
        },
        "id": "dhjXvfI06zb4",
        "outputId": "fd96d670-274d-420f-d60b-88cb19694173"
      },
      "source": [
        "#7\n",
        "arr = np.arange(9).reshape(3,3)\n",
        "print(arr)\n",
        "print('-----------Solucion--------------')\n",
        "arr[::-1]"
      ],
      "execution_count": 108,
      "outputs": [
        {
          "output_type": "stream",
          "text": [
            "[[0 1 2]\n",
            " [3 4 5]\n",
            " [6 7 8]]\n",
            "-----------Solucion--------------\n"
          ],
          "name": "stdout"
        },
        {
          "output_type": "execute_result",
          "data": {
            "text/plain": [
              "array([[6, 7, 8],\n",
              "       [3, 4, 5],\n",
              "       [0, 1, 2]])"
            ]
          },
          "metadata": {
            "tags": []
          },
          "execution_count": 108
        }
      ]
    }
  ]
}