{
  "nbformat": 4,
  "nbformat_minor": 0,
  "metadata": {
    "colab": {
      "name": "Taller_SEMANA2.ipynb",
      "provenance": [],
      "collapsed_sections": [],
      "authorship_tag": "ABX9TyPMBbylh017lnjpMjlY9uUI",
      "include_colab_link": true
    },
    "kernelspec": {
      "name": "python3",
      "display_name": "Python 3"
    },
    "language_info": {
      "name": "python"
    }
  },
  "cells": [
    {
      "cell_type": "markdown",
      "metadata": {
        "id": "view-in-github",
        "colab_type": "text"
      },
      "source": [
        "<a href=\"https://colab.research.google.com/github/nicollcr/Nicoll_CrespoRoncallo_KC/blob/main/SEMANA2/Taller_SEMANA2.ipynb\" target=\"_parent\"><img src=\"https://colab.research.google.com/assets/colab-badge.svg\" alt=\"Open In Colab\"/></a>"
      ]
    },
    {
      "cell_type": "markdown",
      "metadata": {
        "id": "Wcv4FeXSeNY5"
      },
      "source": [
        "Taller Semana 2 **Nicoll Crespo Roncallo**"
      ]
    },
    {
      "cell_type": "markdown",
      "metadata": {
        "id": "LEDfpohOejzW"
      },
      "source": [
        "**1. Numeros palíndromos:**\n",
        "\n",
        "Escriba una función que reciba un numero entero (positivo) o un String y entregue como respuesta si la entrada es o no un palíndromo."
      ]
    },
    {
      "cell_type": "code",
      "metadata": {
        "colab": {
          "base_uri": "https://localhost:8080/"
        },
        "id": "azcdc-f8eJub",
        "outputId": "192a077b-0eb7-4370-8d42-abb7ce68ae8d"
      },
      "source": [
        "def palindromo(strInput):\n",
        "  listInput = list(strInput)\n",
        "  #print(listInput)\n",
        "  listInputReverse = listInput[::-1]\n",
        "  #print(listInputReverse)\n",
        "  if listInput == listInputReverse:\n",
        "    strSalida = str(strInput) + ': Es palíndromo'\n",
        "  else: \n",
        "    strSalida = str(strInput) + ': No es palíndromo'\n",
        "  return strSalida\n",
        "\n",
        "strInput = str(input('Ingrese el numero o palabra a verificar: '))\n",
        "print(palindromo(strInput))"
      ],
      "execution_count": null,
      "outputs": [
        {
          "output_type": "stream",
          "text": [
            "Ingrese el numero o palabra a verificar: 5678765\n",
            "5678765: Es palíndromo\n"
          ],
          "name": "stdout"
        }
      ]
    },
    {
      "cell_type": "markdown",
      "metadata": {
        "id": "nnlh3cAih1Nu"
      },
      "source": [
        "**2. Numeros primos:**\n",
        "\n",
        "Escriba una función que reciba como entrada un número y determine si es o no un numero primo."
      ]
    },
    {
      "cell_type": "code",
      "metadata": {
        "colab": {
          "base_uri": "https://localhost:8080/"
        },
        "id": "OR5FMN2miASx",
        "outputId": "5ecfb316-1b6a-4cec-9bca-1fc09fa6801b"
      },
      "source": [
        "#%%time\n",
        "def primo(intInput):\n",
        "  #inicializa variables\n",
        "  divisor = 2\n",
        "  listDivisores = []\n",
        "  #ciclo\n",
        "  while divisor<intInput:\n",
        "    #print(divisor)\n",
        "    resultado = intInput % divisor\n",
        "    if resultado == 0:\n",
        "      listDivisores.append(divisor)\n",
        "    divisor += 1\n",
        "    if len(listDivisores) >=1:\n",
        "      break\n",
        "  #verificacion tamaño lista divisores\n",
        "  if len(listDivisores) == 0:\n",
        "    respuesta = 'El numero ' + str(intInput) + ' : '+'Es primo'\n",
        "  else: \n",
        "    respuesta = 'El numero ' + str(intInput) + ' : '+'No es primo'\n",
        "  return respuesta\n",
        "\n",
        "intInput = int(input('Ingrese el numero a verificar si es primo: '))\n",
        "print(primo(intInput))"
      ],
      "execution_count": 19,
      "outputs": [
        {
          "output_type": "stream",
          "text": [
            "Ingrese el numero a verificar si es primo: 6\n",
            "El numero 6 : No es primo\n"
          ],
          "name": "stdout"
        }
      ]
    },
    {
      "cell_type": "markdown",
      "metadata": {
        "id": "JIHU4cTaqN9k"
      },
      "source": [
        "**3. Numeros primos 2:**\n",
        "\n",
        "Escriba una función que devuelva una lista de numeros primos con base a la cantidad que el usuario le solicite, Ejemplo si el usuario ingresa 3 debe retornar los 3 primeros numeros primos. "
      ]
    },
    {
      "cell_type": "code",
      "metadata": {
        "colab": {
          "base_uri": "https://localhost:8080/"
        },
        "id": "d6eUyGJHqomh",
        "outputId": "7fd8a6ca-596d-4699-f64b-eb6b822c4cda"
      },
      "source": [
        "def primo(intInput):\n",
        "  #inicializa variables\n",
        "  divisor = 2\n",
        "  listDivisores = []\n",
        "  #ciclo\n",
        "  while divisor<intInput:\n",
        "    #print(divisor)\n",
        "    resultado = intInput % divisor\n",
        "    if resultado == 0:\n",
        "      listDivisores.append(divisor)\n",
        "    divisor += 1\n",
        "    if len(listDivisores) >=1:\n",
        "      break\n",
        "  #verificacion tamaño lista divisores\n",
        "  if len(listDivisores) == 0:\n",
        "    respuesta = True\n",
        "  else: \n",
        "    respuesta = False\n",
        "  return respuesta\n",
        "\n",
        "def listaprimos(intCantidad):\n",
        "  numero = 2\n",
        "  cont = 1\n",
        "  listadoprimos = []\n",
        "  while cont<=intCantidad:\n",
        "    if primo(numero) == True:\n",
        "      listadoprimos.append(numero)\n",
        "      cont += 1\n",
        "    numero += 1\n",
        "  return listadoprimos\n",
        "\n",
        "intInputCantidad = int(input('Ingrese la cantidad de numeros primos a obtener: '))\n",
        "print('Su lista de {0} numero(s) primo(s) es: {1}'.format(intInputCantidad, listaprimos(intInputCantidad)))\n"
      ],
      "execution_count": null,
      "outputs": [
        {
          "output_type": "stream",
          "text": [
            "Ingrese la cantidad de numeros primos a obtener: 15\n",
            "Su lista de 15 numero(s) primo(s) es: [2, 3, 5, 7, 11, 13, 17, 19, 23, 29, 31, 37, 41, 43, 47]\n"
          ],
          "name": "stdout"
        }
      ]
    },
    {
      "cell_type": "markdown",
      "metadata": {
        "id": "kqZIwLGyZ09j"
      },
      "source": [
        "**4. Numeros primos 3:**\n",
        "\n",
        "El primo de Mersenne es un numero primo de la forma 2𝑝 − 1, una de las propiedades de los primos de Mersenne es que p debe ser también un número primo, escriba una función que imprima la cantidad de numeros que el usuario solicite, Ejemplo: si el usuario ingreso 3 los primeros primos de Mersenne deberían ser 3, 7 y 31."
      ]
    },
    {
      "cell_type": "code",
      "metadata": {
        "colab": {
          "base_uri": "https://localhost:8080/"
        },
        "id": "yd2pKChnaKEa",
        "outputId": "fbeb180d-fa7d-4bd1-a700-bbe972386f15"
      },
      "source": [
        "def primo(intInput):\n",
        "  #inicializa variables\n",
        "  divisor = 2\n",
        "  listDivisores = []\n",
        "  #ciclo\n",
        "  while divisor<intInput:\n",
        "    #print(divisor)\n",
        "    resultado = intInput % divisor\n",
        "    if resultado == 0:\n",
        "      listDivisores.append(divisor)\n",
        "    divisor += 1\n",
        "    if len(listDivisores) >=1:\n",
        "      break\n",
        "  #verificacion tamaño lista divisores\n",
        "  if len(listDivisores) == 0:\n",
        "    respuesta = True\n",
        "  else: \n",
        "    respuesta = False\n",
        "  return respuesta\n",
        "\n",
        "def listaprimos(intCantidad):\n",
        "  #Obtiene hasta 7 numeros de Mersenne, desde el 8 se demora mucho\n",
        "  numero = 2\n",
        "  cont = 1\n",
        "  listadoprimos = []\n",
        "  while cont<=intCantidad:\n",
        "    if primo(numero) == True:\n",
        "      mersenne = (2**numero)-1\n",
        "      if primo(mersenne) == True:\n",
        "        listadoprimos.append(mersenne)\n",
        "        cont += 1\n",
        "    numero += 1\n",
        "  return listadoprimos\n",
        "\n",
        "intInputCantidad = int(input('Ingrese la cantidad de numeros primos a obtener: '))\n",
        "print('Su lista de {0} numero(s) primo(s) de Mersenne es: {1}'.format(intInputCantidad, listaprimos(intInputCantidad)))"
      ],
      "execution_count": 21,
      "outputs": [
        {
          "output_type": "stream",
          "text": [
            "Ingrese la cantidad de numeros primos a obtener: 7\n",
            "Su lista de 7 numero(s) primo(s) de Mersenne es: [3, 7, 31, 127, 8191, 131071, 524287]\n"
          ],
          "name": "stdout"
        }
      ]
    },
    {
      "cell_type": "markdown",
      "metadata": {
        "id": "m8DjCpa-8l3O"
      },
      "source": [
        "**Máximo común divisor:**\n",
        "\n",
        "Escriba una función que reciba dos numeros y retorne el cálculo de su máximo común divisor. "
      ]
    },
    {
      "cell_type": "code",
      "metadata": {
        "colab": {
          "base_uri": "https://localhost:8080/"
        },
        "id": "z1DEF_Ht8mZA",
        "outputId": "2c425613-9d4d-4f6d-b62d-c7208e83f643"
      },
      "source": [
        "def maximocomun(intInput1, intInput2):\n",
        "  if intInput1 > intInput2:\n",
        "    modulo1 = intInput1 % intInput2\n",
        "    #print(modulo1)\n",
        "    if modulo1 == 0:\n",
        "      mcd = intInput2\n",
        "    else:\n",
        "      modulo2 = modulo1\n",
        "      while modulo2 != 0:\n",
        "        modulo3 = intInput2 % modulo2\n",
        "        #print(modulo2, modulo3)\n",
        "        if modulo3 == 0:\n",
        "          mcd = modulo2\n",
        "        modulo2 = modulo3\n",
        "  else:\n",
        "    modulo1 = intInput2 % intInput1\n",
        "    if modulo1 == 0:\n",
        "      mcd = intInput1\n",
        "    else:\n",
        "      modulo2 = modulo1\n",
        "      while modulo2 != 0:\n",
        "        modulo3 = intInput1 % modulo2\n",
        "        if modulo3 == 0:\n",
        "          mcd = modulo2\n",
        "        modulo2 = modulo3\n",
        "  return mcd\n",
        "\n",
        "intInput1 = int(input('Ingrese el primer numero: '))\n",
        "intInput2 = int(input('Ingrese el segundo numero: '))\n",
        "print('El maximo comun divisor de {0} y {1} es: {2}'.format(intInput1, intInput2, maximocomun(intInput1, intInput2)))"
      ],
      "execution_count": 36,
      "outputs": [
        {
          "output_type": "stream",
          "text": [
            "Ingrese el primer numero: 1728\n",
            "Ingrese el segundo numero: 842\n",
            "El maximo comun divisor de 1728 y 842 es: 2\n"
          ],
          "name": "stdout"
        }
      ]
    },
    {
      "cell_type": "markdown",
      "metadata": {
        "id": "fEg6nDUIF09S"
      },
      "source": [
        "**Numeros romanos:**\n",
        "\n",
        "Escriba una función que reciba un numero y retorne como resultado el numero romano de dicho\n",
        "número. "
      ]
    },
    {
      "cell_type": "code",
      "metadata": {
        "colab": {
          "base_uri": "https://localhost:8080/"
        },
        "id": "tNlEUorkHXAd",
        "outputId": "bb126628-1f8f-472c-f12f-7368dbc03e87"
      },
      "source": [
        "def romano(intInput):\n",
        "  #convierte de numeros arabigos a romano hasta el 3999\n",
        "  unidades = {0:'', 1:'I', 2:'II', 3:'III', 4:'IV', 5:'V', 6:'VI', 7:'VII', 8:'VIII', 9:'IX', 10:'X'}\n",
        "  decenas = {0:'', 1:'X', 2:'XX', 3:'XXX', 4:'XL', 5:'L', 6:'LX', 7:'LXX', 8:'LXXX', 9:'XC'}\n",
        "  centenas = {0:'', 1:'C', 2:'CC', 3:'CCC', 4:'CD', 5:'D', 6:'DC', 7:'DCC', 8:'DCCC', 9:'CM'}\n",
        "  miles = {0:'', 1:'M', 2:'MM', 3:'MMM'}\n",
        "  unidad = unidades[int(intInput%10)]\n",
        "  decena = decenas[int(intInput/10)%10]\n",
        "  centena = centenas[int(intInput/100)%10]\n",
        "  mil = miles[int(intInput/1000)]\n",
        "  romano = mil+centena+decena+unidad\n",
        "  return romano\n",
        "\n",
        "intInput = int(input('Ingrese el numero a convertir a romano: '))\n",
        "print('El numero {0} en romano es: {1}'.format(intInput, romano(intInput)))"
      ],
      "execution_count": 65,
      "outputs": [
        {
          "output_type": "stream",
          "text": [
            "Ingrese el numero a convertir a romano: 3999\n",
            "El numero 3999 en romano es: MMMCMXCIX\n"
          ],
          "name": "stdout"
        }
      ]
    }
  ]
}