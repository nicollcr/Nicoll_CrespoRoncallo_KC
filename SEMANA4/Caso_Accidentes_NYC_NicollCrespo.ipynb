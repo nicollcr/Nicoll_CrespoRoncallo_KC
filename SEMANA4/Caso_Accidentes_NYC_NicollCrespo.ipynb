{
  "nbformat": 4,
  "nbformat_minor": 0,
  "metadata": {
    "celltoolbar": "Raw Cell Format",
    "kernelspec": {
      "display_name": "Python 3",
      "language": "python",
      "name": "python3"
    },
    "language_info": {
      "codemirror_mode": {
        "name": "ipython",
        "version": 3
      },
      "file_extension": ".py",
      "mimetype": "text/x-python",
      "name": "python",
      "nbconvert_exporter": "python",
      "pygments_lexer": "ipython3",
      "version": "3.7.10"
    },
    "colab": {
      "name": "Caso_Accidentes_NYC_NicollCrespo.ipynb",
      "provenance": [],
      "collapsed_sections": [],
      "include_colab_link": true
    }
  },
  "cells": [
    {
      "cell_type": "markdown",
      "metadata": {
        "id": "view-in-github",
        "colab_type": "text"
      },
      "source": [
        "<a href=\"https://colab.research.google.com/github/nicollcr/Nicoll_CrespoRoncallo_KC/blob/main/SEMANA4/Caso_Accidentes_NYC_NicollCrespo.ipynb\" target=\"_parent\"><img src=\"https://colab.research.google.com/assets/colab-badge.svg\" alt=\"Open In Colab\"/></a>"
      ]
    },
    {
      "cell_type": "markdown",
      "metadata": {
        "id": "TnuVkC8GQp0g"
      },
      "source": [
        "# ¿Cómo podemos controlar el creciente número de accidentes en Nueva York?"
      ]
    },
    {
      "cell_type": "code",
      "metadata": {
        "id": "o392DtKMQp0j"
      },
      "source": [
        "import json\n",
        "import requests\n",
        "from bs4 import BeautifulSoup\n",
        "import pandas as pd\n",
        "import matplotlib.pyplot as plt\n",
        "import seaborn as sns\n",
        "import numpy"
      ],
      "execution_count": 1,
      "outputs": []
    },
    {
      "cell_type": "markdown",
      "metadata": {
        "id": "Gsy4clT1Qp0l"
      },
      "source": [
        "## Introduccion"
      ]
    },
    {
      "cell_type": "markdown",
      "metadata": {
        "id": "eSZeZkxrQp0n"
      },
      "source": [
        "**Contexto empresarial.** La ciudad de Nueva York ha experimentado un aumento en el número de accidentes en las carreteras de la ciudad. Quieren saber si el número de accidentes ha aumentado en las últimas semanas. Para todos los accidentes reportados, han recopilado detalles para cada accidente y han estado manteniendo registros durante el último año y medio (desde enero de 2018 hasta agosto de 2019).\n",
        "\n",
        "La ciudad te ha contratado para que construyas visualizaciones que les ayuden a identificar patrones en accidentes, lo que les ayudaría a tomar acciones preventivas para reducir la cantidad de accidentes en el futuro. Tienen ciertos parámetros como municipio, hora del día, motivo del accidente, etc. De los que se preocupan y de los que les gustaría obtener información específica."
      ]
    },
    {
      "cell_type": "markdown",
      "metadata": {
        "id": "LHWWw8YMQp0p"
      },
      "source": [
        "**Problema comercial.** Su tarea es formatear los datos proporcionados y proporcionar visualizaciones que respondan las preguntas específicas que tiene el cliente, que se mencionan a continuación."
      ]
    },
    {
      "cell_type": "markdown",
      "metadata": {
        "id": "B9WtF1uRQp0r"
      },
      "source": [
        "**Contexto analítico.** Se le proporciona un archivo CSV (almacenado en la carpeta ```datos``` ya creada) que contiene detalles sobre cada accidente, como fecha, hora, ubicación del accidente, motivo del accidente, tipos de vehículos involucrados, recuento de lesiones y muertes, etc. El delimitador en el archivo CSV dado es `;` en lugar del predeterminado `,`. Realizará las siguientes tareas con los datos:\n",
        "\n",
        "1. Extraiga datos adicionales del municipio almacenados en un archivo JSON\n",
        "2. Leer, transformar y preparar datos para su visualización\n",
        "3. Realizar análisis y construir visualizaciones de los datos para identificar patrones en el conjunto de datos.\n",
        "        \n",
        "El cliente tiene un conjunto específico de preguntas a las que le gustaría obtener respuestas. Deberá proporcionar visualizaciones para acompañar estos:\n",
        "\n",
        "1. ¿Cómo ha fluctuado el número de accidentes durante el último año y medio? ¿Han aumentado con el tiempo?\n",
        "2. Para un día en particular, ¿durante qué horas es más probable que ocurran accidentes?\n",
        "3. ¿Hay más accidentes entre semana que durante los fines de semana?\n",
        "4. ¿Cuál es la proporción de recuento de accidentes por área por municipio? ¿Qué distritos tienen un número desproporcionadamente grande de accidentes para su tamaño?\n",
        "5. Para cada municipio, ¿durante qué horas es más probable que ocurran accidentes?\n",
        "6. ¿Cuáles son las 5 principales causas de accidentes en la ciudad?\n",
        "7. ¿Qué tipos de vehículos están más involucrados en accidentes por municipio?\n",
        "8. ¿Qué tipos de vehículos están más involucrados en las muertes?"
      ]
    },
    {
      "cell_type": "markdown",
      "metadata": {
        "id": "qHiVCB2tQp0v"
      },
      "source": [
        "## Obteniendo los datos relevantes"
      ]
    },
    {
      "cell_type": "markdown",
      "metadata": {
        "id": "hIsDvOrsQp0x"
      },
      "source": [
        "El cliente ha solicitado un análisis de la relación accidentes-área de los distritos. Los datos del municipio se almacenan en un archivo JSON en la carpeta ```datos```."
      ]
    },
    {
      "cell_type": "markdown",
      "metadata": {
        "id": "x9C5PD4NQp0z"
      },
      "source": [
        "### Pregunta \n",
        "\n",
        "Utilice la función ```json.load()``` para cargar el archivo ```borough_data.json``` como diccionario."
      ]
    },
    {
      "cell_type": "markdown",
      "metadata": {
        "id": "dfNV2xfuQp01"
      },
      "source": [
        "**Respuesta.** "
      ]
    },
    {
      "cell_type": "code",
      "metadata": {
        "colab": {
          "base_uri": "https://localhost:8080/"
        },
        "id": "rJr5pMhwbVru",
        "outputId": "ae0bc2dd-a134-443b-dfe5-93169790e159"
      },
      "source": [
        "from google.colab import drive\n",
        "import os\n",
        "drive.mount('/content/gdrive')"
      ],
      "execution_count": 2,
      "outputs": [
        {
          "output_type": "stream",
          "name": "stdout",
          "text": [
            "Mounted at /content/gdrive\n"
          ]
        }
      ]
    },
    {
      "cell_type": "code",
      "metadata": {
        "colab": {
          "base_uri": "https://localhost:8080/"
        },
        "id": "PI79k9HHbnLw",
        "outputId": "814cdfdf-2014-41f4-e599-45d267f405d4"
      },
      "source": [
        "import os\n",
        "print(os.getcwd())\n",
        "os.chdir(\"/content/gdrive/MyDrive/BOOTCAMP-SENA_DIGITAL-2021/SEMANA4/Taller4_Caso_real_NYC/Caso NYC\")"
      ],
      "execution_count": 4,
      "outputs": [
        {
          "output_type": "stream",
          "name": "stdout",
          "text": [
            "/content/gdrive/MyDrive/BOOTCAMP-SENA_DIGITAL-2021/SEMANA4/Taller4_Caso_real_NYC/Caso NYC\n"
          ]
        }
      ]
    },
    {
      "cell_type": "code",
      "metadata": {
        "colab": {
          "base_uri": "https://localhost:8080/"
        },
        "id": "-WENWykgQp02",
        "outputId": "2b59fdc2-7c78-4756-9e4c-1533238f6a7e"
      },
      "source": [
        "import json\n",
        "with open('data/borough_data.json') as f:\n",
        "    borough_data=json.load(f)\n",
        "    \n",
        "borough_data"
      ],
      "execution_count": 5,
      "outputs": [
        {
          "output_type": "execute_result",
          "data": {
            "text/plain": [
              "{'brooklyn': {'area': 70.82, 'name': 'brooklyn', 'population': 2648771.0},\n",
              " 'manhattan': {'area': 22.83, 'name': 'manhattan', 'population': 1664727.0},\n",
              " 'queens': {'area': 108.53, 'name': 'queens', 'population': 2358582.0},\n",
              " 'staten island': {'area': 58.37,\n",
              "  'name': 'staten island',\n",
              "  'population': 479458.0},\n",
              " 'the bronx': {'area': 42.1, 'name': 'the bronx', 'population': 1471160.0}}"
            ]
          },
          "metadata": {},
          "execution_count": 5
        }
      ]
    },
    {
      "cell_type": "markdown",
      "metadata": {
        "id": "kDrG2dHiQp05"
      },
      "source": [
        "### Pregunta \n",
        "De manera similar, use la función pandas ```read_csv()``` para cargar el archivo ```accidentes.csv``` como un DataFrame. Nombra este DataFrame ```df```.\n"
      ]
    },
    {
      "cell_type": "markdown",
      "metadata": {
        "id": "Vemxmc66Qp06"
      },
      "source": [
        "**Respuesta.** "
      ]
    },
    {
      "cell_type": "code",
      "metadata": {
        "id": "a_yWFo8oQp08"
      },
      "source": [
        "import pandas as pd\n",
        "with open('data/accidents.csv') as f:\n",
        "    df=pd.read_csv(f, delimiter=';')"
      ],
      "execution_count": 6,
      "outputs": []
    },
    {
      "cell_type": "markdown",
      "metadata": {
        "id": "5gJebafVQp09"
      },
      "source": [
        "## Overview de la data"
      ]
    },
    {
      "cell_type": "markdown",
      "metadata": {
        "id": "Y5qqlgAXQp0-"
      },
      "source": [
        "Analizemos las columnas presentes en el data frame"
      ]
    },
    {
      "cell_type": "code",
      "metadata": {
        "scrolled": true,
        "id": "EMqnOFbIQp0_",
        "colab": {
          "base_uri": "https://localhost:8080/"
        },
        "outputId": "bd730f21-ff23-4b17-917e-e5339944f36b"
      },
      "source": [
        "df.columns"
      ],
      "execution_count": 7,
      "outputs": [
        {
          "output_type": "execute_result",
          "data": {
            "text/plain": [
              "Index(['DATE', 'TIME', 'BOROUGH', 'ZIP CODE', 'LATITUDE', 'LONGITUDE',\n",
              "       'ON STREET NAME', 'NUMBER OF PEDESTRIANS INJURED',\n",
              "       'NUMBER OF PEDESTRIANS KILLED', 'NUMBER OF CYCLIST INJURED',\n",
              "       'NUMBER OF CYCLIST KILLED', 'NUMBER OF MOTORIST INJURED',\n",
              "       'NUMBER OF MOTORIST KILLED', 'CONTRIBUTING FACTOR VEHICLE 1',\n",
              "       'CONTRIBUTING FACTOR VEHICLE 2', 'CONTRIBUTING FACTOR VEHICLE 3',\n",
              "       'CONTRIBUTING FACTOR VEHICLE 4', 'CONTRIBUTING FACTOR VEHICLE 5',\n",
              "       'COLLISION_ID', 'VEHICLE TYPE CODE 1', 'VEHICLE TYPE CODE 2',\n",
              "       'VEHICLE TYPE CODE 3', 'VEHICLE TYPE CODE 4', 'VEHICLE TYPE CODE 5'],\n",
              "      dtype='object')"
            ]
          },
          "metadata": {},
          "execution_count": 7
        }
      ]
    },
    {
      "cell_type": "markdown",
      "metadata": {
        "id": "xvf4PQNEQp1A"
      },
      "source": [
        "Tenemos las siguientes columnas\n",
        "\n",
        "1. **BOROUGH**: el municipio en el que ocurrió el accidente\n",
        "2. **COLLISION_ID**: un identificador único para esta colisión\n",
        "3. **CONTRIBUTING FACTOR VEHICLE (1, 2, 3, 4, 5)**: Motivos del accidente\n",
        "4. **CROSS STREET NAME**: Calle transversal más cercana al lugar del accidente\n",
        "5. **DATE**: Fecha del accidente\n",
        "6. **TIME**: Hora del accidente\n",
        "7. **LATITUDE**: Latitud del accidente\n",
        "8. **LONGITUDE**: Longitud del accidente\n",
        "9. **NUMBER OF (CYCLISTS, MOTORISTS, PEDESTRIANS) INJURED**: Lesión por categoría\n",
        "10. **NUMBER OF (CYCLISTS, MOTORISTS, PEDESTRIANS) DEATHS**: Categoría muerte sabia\n",
        "11. **ON STREET NAME**: Calle donde ocurrió el accidente\n",
        "13. **VEHICLE TYPE CODE(1, 2, 3, 4, 5)**: Tipos de vehículos involucrados en el accidente\n",
        "14. **ZIP CODE**: código postal del lugar del accidente"
      ]
    },
    {
      "cell_type": "markdown",
      "metadata": {
        "id": "FdJ4kH2KQp1D"
      },
      "source": [
        "### Ejercicio 1 FALTA DECIR PORQUE\n",
        "\n",
        "Desde 2014, la ciudad de Nueva York ha estado implementando un plan de seguridad vial llamado [Vision Zero](https://www1.nyc.gov/content/visionzero/pages/). Su objetivo es reducir el número de muertes por accidentes de tránsito a *cero* para fines de 2024. El plan está creando nuevas y mejorando las medidas de seguridad actuales, algunas de ellas incluyen:\n",
        "\n",
        "- [ ] Detección de peatones automatizada\n",
        "- [ ] Auditorías de seguridad vial en lugares de alto riesgo\n",
        "- [ ] Ampliación de la red de carriles bici\n",
        "- [ ] Iniciativas específicas de educación y sensibilización\n",
        "- [ ] Creación de islas de refugio peatonal\n",
        "- [ ] Lanzamiento del programa integrado de reductor de velocidad basado en datos (topes y amortiguadores de velocidad)\n",
        "\n",
        "¿Cuáles de estas iniciativas podrían beneficiarse directamente de un análisis de los datos proporcionados? Marque todo lo que corresponda.\n",
        "\n",
        "**Nota:** Puede crear marcas de verificación haciendo doble clic en esta celda y agregando una ```[x]``` en las líneas correspondientes."
      ]
    },
    {
      "cell_type": "markdown",
      "metadata": {
        "id": "LOmIZ_rHQp1F"
      },
      "source": [
        "**Respuesta.**\n",
        "\n",
        "- [ ] Detecciòn de peatones automatizada\n",
        "\n",
        "- [x] Auditorías de seguridad vial en lugares de alto riesgo, porque con los datos se pueden saber cuales son los lugares donde mas ocurren accidentes y porque ocurren y de acuerdo a ello crear nuevas medidas o mejorar las existentes, para prevenirlos. \n",
        "\n",
        "- [ ] Ampliación de la red de carriles bici\n",
        "\n",
        "- [x] Iniciativas especificas de educación y sensibilización, porque con los datos se tienen que tipo de vehiculos, los factores, en que hora y en que municipio entonces se pueden hacer campañas de sensibilización centrandose en los factores, tipos de vehiculos y horas con mas frecuencia de accidentes para cada municipio.\n",
        "\n",
        "- [ ] Creación de islas de refugio peatonal\n",
        "\n",
        "- [ ] Lanzamiento del programa integrado de reductor de velocidad en datos (topes y amortiguadores de velocidad)\n"
      ]
    },
    {
      "cell_type": "markdown",
      "metadata": {
        "id": "h9E9ye-2Qp1H"
      },
      "source": [
        "Sigamos adelante y respondamos a cada una de las preguntas del cliente."
      ]
    },
    {
      "cell_type": "markdown",
      "metadata": {
        "id": "LSo0-fMBQp1I"
      },
      "source": [
        "## Respondiendo las preguntas del cliente "
      ]
    },
    {
      "cell_type": "markdown",
      "metadata": {
        "id": "uas7OCFeQp1J"
      },
      "source": [
        "### Ejercicio 2 \n",
        "\n",
        "Agrupe los datos disponibles mensualmente y genere un line plot de accidentes a lo largo del tiempo. ¿Ha aumentado el número de accidentes durante el último año y medio?\n",
        "\n",
        "**Sugerencia**: Puede encontrar útiles las funciones de pandas ```to_datetime ()``` y ```dt.to_period ()```."
      ]
    },
    {
      "cell_type": "markdown",
      "metadata": {
        "id": "F3Gmn6zyQp1K"
      },
      "source": [
        "**Respuesta.** "
      ]
    },
    {
      "cell_type": "code",
      "metadata": {
        "id": "knsUFJN-Qp1L",
        "colab": {
          "base_uri": "https://localhost:8080/",
          "height": 350
        },
        "outputId": "4116ac27-ca18-4bd7-a9c3-45648a485a2e"
      },
      "source": [
        "import matplotlib.pyplot as plt\n",
        "dfc = df.copy()\n",
        "dfc['DATE'] = pd.to_datetime(dfc['DATE'], format=\"%m/%d/%Y\")\n",
        "unos = [1]*len(df)\n",
        "print(len(df))\n",
        "dfc['COUNT'] = unos\n",
        "dfMes =  dfc.groupby(dfc['DATE'].dt.strftime('%Y-%m'))['COUNT'].sum().sort_index()\n",
        "#print(dfMes)\n",
        "fig,ax = plt.subplots()\n",
        "plt.plot(dfMes.index, dfMes.values)\n",
        "plt.xticks(rotation=90)\n",
        "plt.xlabel(\"FECHA\", fontdict={'family': 'serif', 'size': 12})\n",
        "plt.ylabel(\"FRECUENCIA ACCIDENTES\", fontdict={'family': 'serif', 'size': 12})\n",
        "plt.title(\"ACCIDENTES EN NYC\", \n",
        "          fontdict={'family': 'serif', \n",
        "                    'color' : 'black',\n",
        "                    'weight': 'bold',\n",
        "                    'size': 16})\n",
        "plt.grid(True)\n",
        "plt.show()"
      ],
      "execution_count": 9,
      "outputs": [
        {
          "output_type": "stream",
          "name": "stdout",
          "text": [
            "238522\n"
          ]
        },
        {
          "output_type": "display_data",
          "data": {
            "image/png": "[encoded data removed]",
            "text/plain": [
              "<Figure size 432x288 with 1 Axes>"
            ]
          },
          "metadata": {
            "needs_background": "light"
          }
        }
      ]
    },
    {
      "cell_type": "markdown",
      "metadata": {
        "id": "stwVKXPaQp1M"
      },
      "source": [
        "**Respuesta:** Durante el ultimo año y medio se evidencia que el numero de accidentes ha fluctuado de acuerdo a los meses, teniendo que en Febrero se dan las frecuencias mas bajas y en Mayo, Junio y Octubre las tres más altas. Además en general el número de accidentes en 2019 disminuyó con respecto a 2018. "
      ]
    },
    {
      "cell_type": "markdown",
      "metadata": {
        "id": "iHEbytsGQp1M"
      },
      "source": [
        "### Ejercicio 3\n",
        "\n",
        "De la gráfica anterior, ¿qué meses parecen tener el menor número de accidentes? ¿Cuáles crees que son las razones detrás de esto?"
      ]
    },
    {
      "cell_type": "markdown",
      "metadata": {
        "id": "XGx20jduQp1N"
      },
      "source": [
        "**Respuesta.** \n"
      ]
    },
    {
      "cell_type": "markdown",
      "metadata": {
        "id": "ZCjRlrNo_p_V"
      },
      "source": [
        "En los dos años se evidencia que el mes con menor numero de accidentes es Febrero. La razón de esto, es que en Febrero en Estados Unidos están en invierno, con temperaturas muy bajas y las personas generalmente no salen"
      ]
    },
    {
      "cell_type": "markdown",
      "metadata": {
        "id": "UE5na67IQp1P"
      },
      "source": [
        "### Ejercicio 4 \n",
        "¿Cómo varía el número de accidentes a lo largo de un solo día? Cree una nueva columna `HOUR` basada en los datos de la columna `TIME`, luego trace un gráfico de barras de la distribución por hora a lo largo del día.\n",
        "\n",
        "**Sugerencia:** Puede encontrar útil la función ```dt.hour```."
      ]
    },
    {
      "cell_type": "markdown",
      "metadata": {
        "id": "odOCgcujQp1Q"
      },
      "source": [
        "**Respuesta.**"
      ]
    },
    {
      "cell_type": "code",
      "metadata": {
        "id": "uCZQckeGQp1R"
      },
      "source": [
        "dfc['TIME'] = df[['DATE', 'TIME']].apply(' '.join, axis=1)"
      ],
      "execution_count": 10,
      "outputs": []
    },
    {
      "cell_type": "code",
      "metadata": {
        "id": "chOnn-1LUqyW"
      },
      "source": [
        "dfc['TIME'] = pd.to_datetime(dfc['TIME'])"
      ],
      "execution_count": 11,
      "outputs": []
    },
    {
      "cell_type": "code",
      "metadata": {
        "colab": {
          "base_uri": "https://localhost:8080/",
          "height": 318
        },
        "id": "V0JaV-lUEJPU",
        "outputId": "ed232b0b-bc4e-432a-862c-aac11615a28b"
      },
      "source": [
        "dfc['HOUR'] = dfc['TIME'].dt.hour\n",
        "dfHoras = dfc.groupby(dfc['HOUR']).size()\n",
        "dfHoras.plot.bar()\n",
        "plt.ylabel('FRECUENCIA ACCIDENTES')\n",
        "plt.title(\"ACCIDENTES POR HORA EN NYC\", \n",
        "          fontdict={'family': 'serif', \n",
        "                    'color' : 'black',\n",
        "                    'weight': 'bold',\n",
        "                    'size': 16})"
      ],
      "execution_count": 12,
      "outputs": [
        {
          "output_type": "execute_result",
          "data": {
            "text/plain": [
              "Text(0.5, 1.0, 'ACCIDENTES POR HORA EN NYC')"
            ]
          },
          "metadata": {},
          "execution_count": 12
        },
        {
          "output_type": "display_data",
          "data": {
            "image/png": "[encoded data removed]",
            "text/plain": [
              "<Figure size 432x288 with 1 Axes>"
            ]
          },
          "metadata": {
            "needs_background": "light"
          }
        }
      ]
    },
    {
      "cell_type": "markdown",
      "metadata": {
        "id": "h_dySavOFFnD"
      },
      "source": [
        "A lo largo de un día el número de accidentes empieza a aumentar desde las 3 hasta llegar al pico más alto entre las 16 y las 18 horas, luego de esto empieza a disminuir hasta las 23 horas , aumenta un poco a las 0 horas y de alli dismunuye de nuevo, presentandose el menor numero de accidentes a las 3 horas. "
      ]
    },
    {
      "cell_type": "markdown",
      "metadata": {
        "id": "d0omH6uHQp1S"
      },
      "source": [
        "### Ejercicio 5 \n",
        "\n",
        "En la pregunta anterior hemos agregado el número de accidentes por hora sin tener en cuenta la fecha y el lugar en que ocurrieron. ¿Qué crítica le daría a este enfoque?"
      ]
    },
    {
      "cell_type": "markdown",
      "metadata": {
        "id": "MCaQ9o5FQp1T"
      },
      "source": [
        "**Respuesta.** \n",
        "De esta forma es posible saber el promedio de accidentes por hora en el dia en el periodo estudiado(01-2018 a 08-2019), sin embargo, \n",
        "- No es posible saber el comportamiento en un mes en especifico por horas\n",
        "- No es posible saber si en un cierto lugar a cierta hora es mas propenso un accidente\n",
        "- No es posible saber si el comportamiento por horas cambio de un año al otro"
      ]
    },
    {
      "cell_type": "markdown",
      "metadata": {
        "id": "bi2j7X-iQp1V"
      },
      "source": [
        "### Ejercicio 6 \n",
        "\n",
        "¿Cómo varía el número de accidentes en una sola semana? Trace un gráfico de barras basado en el recuento de accidentes por día de la semana.\n",
        "\n",
        "**Sugerencia:** Puede encontrar útil la función ```dt.weekday```."
      ]
    },
    {
      "cell_type": "markdown",
      "metadata": {
        "id": "Gkvfox3IQp1W"
      },
      "source": [
        "**Respuesta.**"
      ]
    },
    {
      "cell_type": "code",
      "metadata": {
        "id": "_BNOPLUuQp1W",
        "colab": {
          "base_uri": "https://localhost:8080/",
          "height": 363
        },
        "outputId": "aea62ac6-cafc-4199-df90-b0cc8a69691c"
      },
      "source": [
        "#dfc['WEEKDAY'] = dfc['TIME'].dt.weekday\n",
        "dfc['WEEKDAY'] = dfc['TIME'].dt.day_name()\n",
        "days = [ 'Monday', 'Tuesday', 'Wednesday', 'Thursday', 'Friday', 'Saturday', 'Sunday']\n",
        "dfWeekday = dfc.groupby(dfc['WEEKDAY']).size().reindex(days)\n",
        "#print(dfWeekday)\n",
        "dfWeekday.plot.bar()\n",
        "plt.ylabel('FRECUENCIA')\n",
        "plt.title(\"ACCIDENTES POR DIA EN NYC\", \n",
        "          fontdict={'family': 'serif', \n",
        "                    'color' : 'black',\n",
        "                    'weight': 'bold',\n",
        "                    'size': 16})"
      ],
      "execution_count": 15,
      "outputs": [
        {
          "output_type": "execute_result",
          "data": {
            "text/plain": [
              "Text(0.5, 1.0, 'ACCIDENTES POR DIA EN NYC')"
            ]
          },
          "metadata": {},
          "execution_count": 15
        },
        {
          "output_type": "display_data",
          "data": {
            "image/png": "[encoded data removed]",
            "text/plain": [
              "<Figure size 432x288 with 1 Axes>"
            ]
          },
          "metadata": {
            "needs_background": "light"
          }
        }
      ]
    },
    {
      "cell_type": "markdown",
      "metadata": {
        "id": "67QnaJ0vQp1X"
      },
      "source": [
        "De la gráfica anterior se puede concluir que el dia de la semana con mayor numero de accidentes es el Viernes y el dia con menor frecuencia el Domingo. Sin embargo de Lunes a Viernes las frecuencias no varian mucho, notandose más la diferencia el fin de semana, donde la frecuencia baja"
      ]
    },
    {
      "cell_type": "markdown",
      "metadata": {
        "id": "0lvJIq4xQp1Y"
      },
      "source": [
        "### Ejercicio 7\n",
        "\n",
        "Trace una gráfica de barras del número total de accidentes en cada municipio, así como uno de los accidentes por milla cuadrada por municipio. ¿Qué puedes concluir?\n",
        "\n",
        "**Sugerencia:** Es posible que desee actualizar algunas de las claves en el diccionario del municipio para que coincidan con los nombres en el marco de datos."
      ]
    },
    {
      "cell_type": "markdown",
      "metadata": {
        "id": "6HyX7VK4Qp1a"
      },
      "source": [
        "**Respuesta.**"
      ]
    },
    {
      "cell_type": "code",
      "metadata": {
        "colab": {
          "base_uri": "https://localhost:8080/",
          "height": 502
        },
        "id": "XgvSHE38Oqxt",
        "outputId": "9602ee3c-3bae-4099-f728-9438af84d778"
      },
      "source": [
        "dfMunicipio = dfc.groupby(dfc['BOROUGH']).size()\n",
        "dfMunicipio.plot.bar()\n",
        "print(dfMunicipio)\n",
        "plt.ylabel('FRECUENCIA')\n",
        "plt.title(\"ACCIDENTES POR MUNICIPIO EN NYC\", \n",
        "          fontdict={'family': 'serif', \n",
        "                    'color' : 'black',\n",
        "                    'weight': 'bold',\n",
        "                    'size': 16})"
      ],
      "execution_count": 18,
      "outputs": [
        {
          "output_type": "stream",
          "name": "stdout",
          "text": [
            "BOROUGH\n",
            "BRONX            37709\n",
            "BROOKLYN         76253\n",
            "MANHATTAN        48749\n",
            "QUEENS           67120\n",
            "STATEN ISLAND     8691\n",
            "dtype: int64\n"
          ]
        },
        {
          "output_type": "execute_result",
          "data": {
            "text/plain": [
              "Text(0.5, 1.0, 'ACCIDENTES POR MUNICIPIO EN NYC')"
            ]
          },
          "metadata": {},
          "execution_count": 18
        },
        {
          "output_type": "display_data",
          "data": {
            "image/png": "[encoded data removed]",
            "text/plain": [
              "<Figure size 432x288 with 1 Axes>"
            ]
          },
          "metadata": {
            "needs_background": "light"
          }
        }
      ]
    },
    {
      "cell_type": "markdown",
      "metadata": {
        "id": "L33JA64-GR-D"
      },
      "source": [
        "**Conclusion:** De la anterior gráfica se concluye que el municipio con mayor cantidad de accidentes es Brooklyn y el de menor Staten Island"
      ]
    },
    {
      "cell_type": "code",
      "metadata": {
        "colab": {
          "base_uri": "https://localhost:8080/"
        },
        "id": "OT9zqK3IQaIb",
        "outputId": "7243ddfd-109f-4058-8649-db25432e2f0b"
      },
      "source": [
        "#REEMPLAZO DE CLAVES EN DICCIONARIO DE MUNICIPIOS\n",
        "borough_data_reemplazo = {'brooklyn': 'BROOKLYN', 'manhattan': 'MANHATTAN', 'queens': 'QUEENS', 'staten island': 'STATEN ISLAND', 'the bronx': 'BRONX'}\n",
        "borough_data_nuevo =  dict((borough_data_reemplazo[key], value) for (key, value) in borough_data.items())\n",
        "borough_data_nuevo"
      ],
      "execution_count": 19,
      "outputs": [
        {
          "output_type": "execute_result",
          "data": {
            "text/plain": [
              "{'BRONX': {'area': 42.1, 'name': 'the bronx', 'population': 1471160.0},\n",
              " 'BROOKLYN': {'area': 70.82, 'name': 'brooklyn', 'population': 2648771.0},\n",
              " 'MANHATTAN': {'area': 22.83, 'name': 'manhattan', 'population': 1664727.0},\n",
              " 'QUEENS': {'area': 108.53, 'name': 'queens', 'population': 2358582.0},\n",
              " 'STATEN ISLAND': {'area': 58.37,\n",
              "  'name': 'staten island',\n",
              "  'population': 479458.0}}"
            ]
          },
          "metadata": {},
          "execution_count": 19
        }
      ]
    },
    {
      "cell_type": "code",
      "metadata": {
        "colab": {
          "base_uri": "https://localhost:8080/",
          "height": 502
        },
        "id": "FoW4FI_Q5Gfm",
        "outputId": "f6c6f2b9-ff73-4e82-a896-c5edf2724014"
      },
      "source": [
        "import math\n",
        "dfConcentracion = (dfc.groupby(dfc['BOROUGH']).size())\n",
        "for i in list(dfConcentracion.index): \n",
        "  area = borough_data_nuevo[i]['area']\n",
        "  dfConcentracion[i] = math.ceil(dfConcentracion[i]/area)\n",
        "dfConcentracion.plot.bar()\n",
        "print(dfConcentracion)\n",
        "plt.ylabel('ACCIDENTES')\n",
        "plt.title(\"ACCIDENTES POR MILLA CUADRADA POR MUNICIPIO EN NYC\", \n",
        "          fontdict={'family': 'serif', \n",
        "                    'color' : 'black',\n",
        "                    'weight': 'bold',\n",
        "                    'size': 16})"
      ],
      "execution_count": 20,
      "outputs": [
        {
          "output_type": "stream",
          "name": "stdout",
          "text": [
            "BOROUGH\n",
            "BRONX             896\n",
            "BROOKLYN         1077\n",
            "MANHATTAN        2136\n",
            "QUEENS            619\n",
            "STATEN ISLAND     149\n",
            "dtype: int64\n"
          ]
        },
        {
          "output_type": "execute_result",
          "data": {
            "text/plain": [
              "Text(0.5, 1.0, 'ACCIDENTES POR MILLA CUADRADA POR MUNICIPIO EN NYC')"
            ]
          },
          "metadata": {},
          "execution_count": 20
        },
        {
          "output_type": "display_data",
          "data": {
            "image/png": "[encoded data removed]",
            "text/plain": [
              "<Figure size 432x288 with 1 Axes>"
            ]
          },
          "metadata": {
            "needs_background": "light"
          }
        }
      ]
    },
    {
      "cell_type": "markdown",
      "metadata": {
        "id": "jye7CB4qQp1d"
      },
      "source": [
        "**Conclusión: ** Sin embargo, al normalizar los datos, se puede ver en la grafica anterior que la frecuencia más alta es para Manhattan, pero la más baja si se mantiene para Staten Island"
      ]
    },
    {
      "cell_type": "markdown",
      "metadata": {
        "id": "rkqnCtGDQp1f"
      },
      "source": [
        "### Ejercicio 8 \n",
        "\n",
        "¿Qué horas tienen más accidentes en cada municipio? Trace un gráfico de barras para cada municipio que muestre el número de accidentes por cada hora del día.\n",
        "\n",
        "**Sugerencia:** Puede usar ```sns.FacetGrid``` para crear una cuadrícula de parcelas con los datos por hora de cada municipio."
      ]
    },
    {
      "cell_type": "markdown",
      "metadata": {
        "id": "SY6mUEwrQp1g"
      },
      "source": [
        "**Respuesta.**"
      ]
    },
    {
      "cell_type": "code",
      "metadata": {
        "id": "doo-zNbYQp1h",
        "colab": {
          "base_uri": "https://localhost:8080/",
          "height": 461
        },
        "outputId": "e99627c6-9a87-46dc-f392-4673c495b10d"
      },
      "source": [
        "dfMunicipioHora = dfc.groupby(by = ['BOROUGH', 'HOUR']).size()\n",
        "#dfMunicipioHour = dfMunicipioHora.to_frame()\n",
        "listaMunicipios = list(dfMunicipioHora.index.get_level_values('BOROUGH').unique())\n",
        "times = list(dfMunicipioHora.index.get_level_values('HOUR').unique())\n",
        "g = sns.FacetGrid(dfc, col='BOROUGH', height=6)\n",
        "g = g.map(sns.countplot, \"HOUR\", order=times)"
      ],
      "execution_count": 21,
      "outputs": [
        {
          "output_type": "display_data",
          "data": {
            "image/png": "[encoded data removed]",
            "text/plain": [
              "<Figure size 2160x432 with 5 Axes>"
            ]
          },
          "metadata": {
            "needs_background": "light"
          }
        }
      ]
    },
    {
      "cell_type": "markdown",
      "metadata": {
        "id": "erFKM6DcJeQR"
      },
      "source": [
        "Hora a la que se presenta mayor cantidad de accidentes: \n",
        "- Bronx: 16 horas\n",
        "- Brooklyn: 16 horas\n",
        "- Queens: 17 horas\n",
        "- Manhattan: 14 horas\n",
        "- Staten Island: 16 horas"
      ]
    },
    {
      "cell_type": "markdown",
      "metadata": {
        "id": "2rXebgChQp1i"
      },
      "source": [
        "**¿Es mayor el número de accidentes en diferentes momentos en diferentes distritos? ¿Deberíamos concentrarnos en diferentes momentos para cada municipio?**"
      ]
    },
    {
      "cell_type": "markdown",
      "metadata": {
        "id": "bERkK1J3Qp1j"
      },
      "source": [
        "**Respuesta:** En general la mayor cantidad de accidentes se dan entre las 16 y las 18 horas, y solo en Manhattan se da esta situacion entre las 13  y 14 horas. Sin embargo, estos dos intervalos: [16-18] y [13-14] representan los picos mas altos en todos los municipios."
      ]
    },
    {
      "cell_type": "markdown",
      "metadata": {
        "id": "_DCD6LlcQp1j"
      },
      "source": [
        "### Ejercicio 9 \n",
        "\n",
        "¿Qué factores provocan la mayoría de los accidentes? Evite contar dos veces los factores que contribuyen a un solo accidente.\n",
        "\n",
        "**Sugerencia:** Una forma de lidiar con las repeticiones es concatenar las columnas correspondientes conservando sus índices, puede hacerlo con las funciones ```pd.concat()``` y ```reset_index()```. Luego, use un ```group_by``` apropiado para contar el número de repeticiones de factores contribuidos por accidente."
      ]
    },
    {
      "cell_type": "markdown",
      "metadata": {
        "id": "zVXK36YXQp1l"
      },
      "source": [
        "**Respuesta**.\n"
      ]
    },
    {
      "cell_type": "code",
      "metadata": {
        "id": "-JsMpfugQp1l",
        "colab": {
          "base_uri": "https://localhost:8080/"
        },
        "outputId": "d39fdc70-545e-4222-b5ca-fb197cf9421e"
      },
      "source": [
        "columnas = [dfc['CONTRIBUTING FACTOR VEHICLE 1'], dfc['CONTRIBUTING FACTOR VEHICLE 2'], dfc['CONTRIBUTING FACTOR VEHICLE 3'], dfc['CONTRIBUTING FACTOR VEHICLE 4'], dfc['CONTRIBUTING FACTOR VEHICLE 5']]\n",
        "dfFactores = pd.concat(columnas, join='inner').reset_index()\n",
        "dfFactores.columns = ['INDEX', 'FACTOR']\n",
        "dfFactores_accidents = dfFactores.groupby('FACTOR')['INDEX'].nunique()\n",
        "print('-------Factores de accidentes en NYC----------')\n",
        "dfFactores_accidents.sort_values(ascending=False)\n",
        "#len(list(dfFactores_accidents.index))"
      ],
      "execution_count": 23,
      "outputs": [
        {
          "output_type": "stream",
          "name": "stdout",
          "text": [
            "-------Factores de accidentes en NYC----------\n"
          ]
        },
        {
          "output_type": "execute_result",
          "data": {
            "text/plain": [
              "FACTOR\n",
              "Unspecified                                              190096\n",
              "Driver Inattention/Distraction                            61752\n",
              "Failure to Yield Right-of-Way                             19641\n",
              "Following Too Closely                                     17293\n",
              "Backing Unsafely                                          14835\n",
              "Passing Too Closely                                       12631\n",
              "Passing or Lane Usage Improper                            11808\n",
              "Other Vehicular                                            8860\n",
              "Unsafe Lane Changing                                       6643\n",
              "Turning Improperly                                         6626\n",
              "Traffic Control Disregarded                                4687\n",
              "Driver Inexperience                                        4152\n",
              "Unsafe Speed                                               3469\n",
              "Reaction to Uninvolved Vehicle                             3034\n",
              "Alcohol Involvement                                        2491\n",
              "View Obstructed/Limited                                    2345\n",
              "Oversized Vehicle                                          1977\n",
              "Pavement Slippery                                          1935\n",
              "Pedestrian/Bicyclist/Other Pedestrian Error/Confusion      1788\n",
              "Aggressive Driving/Road Rage                               1095\n",
              "Passenger Distraction                                      1040\n",
              "Brakes Defective                                            840\n",
              "Fell Asleep                                                 598\n",
              "Outside Car Distraction                                     549\n",
              "Glare                                                       435\n",
              "Obstruction/Debris                                          431\n",
              "Failure to Keep Right                                       357\n",
              "Steering Failure                                            320\n",
              "Pavement Defective                                          301\n",
              "Illnes                                                      255\n",
              "Driverless/Runaway Vehicle                                  241\n",
              "Tire Failure/Inadequate                                     220\n",
              "Fatigued/Drowsy                                             218\n",
              "Lost Consciousness                                          206\n",
              "Animals Action                                              183\n",
              "Lane Marking Improper/Inadequate                            144\n",
              "Accelerator Defective                                       143\n",
              "Drugs (illegal)                                             118\n",
              "Traffic Control Device Improper/Non-Working                  99\n",
              "Cell Phone (hand-Held)                                       94\n",
              "Physical Disability                                          61\n",
              "Other Lighting Defects                                       39\n",
              "Other Electronic Device                                      31\n",
              "Tinted Windows                                               27\n",
              "Tow Hitch Defective                                          26\n",
              "Vehicle Vandalism                                            23\n",
              "Prescription Medication                                      20\n",
              "Using On Board Navigation Device                             19\n",
              "Headlights Defective                                         17\n",
              "Eating or Drinking                                           16\n",
              "Texting                                                      13\n",
              "Cell Phone (hands-free)                                      12\n",
              "Shoulders Defective/Improper                                  9\n",
              "Windshield Inadequate                                         8\n",
              "Listening/Using Headphones                                    7\n",
              "Name: INDEX, dtype: int64"
            ]
          },
          "metadata": {},
          "execution_count": 23
        }
      ]
    },
    {
      "cell_type": "markdown",
      "metadata": {
        "id": "EWKmNNH3kbCP"
      },
      "source": [
        "**Conclusion:** Despues de evidenciar que en la mayoria de veces no se tiene la causa del accidente, se encuentra que el factor principal de accidentes es la distracción del conductor, no ceder el derecho de paso, seguir demasiado cerca, retroceder inseguramente, pasar demasiado cerca y adelantar o usar el carril incorrectamente."
      ]
    },
    {
      "cell_type": "markdown",
      "metadata": {
        "id": "PzUp_OYzQp1m"
      },
      "source": [
        "### Ejercicio 10 \n",
        "\n",
        "¿Qué tipos de vehículos están más involucrados en accidentes por municipio? Evite contar dos veces el tipo de vehículos presentes en un solo accidente.\n",
        "\n",
        "**Sugerencia:** Puede aplicar un enfoque similar al utilizado en la pregunta anterior."
      ]
    },
    {
      "cell_type": "markdown",
      "metadata": {
        "id": "PV-7U8aBQp1n"
      },
      "source": [
        "**Respuesta.** "
      ]
    },
    {
      "cell_type": "code",
      "metadata": {
        "colab": {
          "base_uri": "https://localhost:8080/"
        },
        "id": "WjmsUCoe2NBX",
        "outputId": "3bd8129d-cfe5-45fe-931a-45d4c247bb0c"
      },
      "source": [
        "#RESULTADOS POR MUNICIPIO\n",
        "tipo1 = dfc[['BOROUGH', 'VEHICLE TYPE CODE 1']] \n",
        "tipo2 = dfc[['BOROUGH', 'VEHICLE TYPE CODE 2']]\n",
        "tipo3 = dfc[['BOROUGH', 'VEHICLE TYPE CODE 3']]\n",
        "tipo4 = dfc[['BOROUGH', 'VEHICLE TYPE CODE 4']]\n",
        "tipo5 = dfc[['BOROUGH', 'VEHICLE TYPE CODE 5']]\n",
        "tipo1.columns = ['BOROUGH', 'VEHICLE']\n",
        "tipo2.columns = ['BOROUGH', 'VEHICLE']\n",
        "tipo3.columns = ['BOROUGH', 'VEHICLE']\n",
        "tipo4.columns = ['BOROUGH', 'VEHICLE']\n",
        "tipo5.columns = ['BOROUGH', 'VEHICLE']\n",
        "dfVehiculosMunicipios = pd.concat([tipo1, tipo2, tipo3, tipo4, tipo5]).reset_index()\n",
        "dfVehiculosMunicipios.columns = ['INDEX', 'BOROUGH', 'VEHICLE']\n",
        "dfMunicipioVeh = dfVehiculosMunicipios.groupby(by= ['BOROUGH', 'VEHICLE'])['INDEX'].nunique()\n",
        "boroughlist = list(borough_data_nuevo.keys())\n",
        "print('----------Resultados por municipio---------------')\n",
        "for i in boroughlist:\n",
        "  print(i, dfMunicipioVeh[i].sort_values(ascending=False)[:6])\n",
        "  print('-----------------------------------')"
      ],
      "execution_count": 25,
      "outputs": [
        {
          "output_type": "stream",
          "name": "stdout",
          "text": [
            "----------Resultados por municipio---------------\n",
            "BRONX VEHICLE\n",
            "Sedan                                  19652\n",
            "Station Wagon/Sport Utility Vehicle    15434\n",
            "PASSENGER VEHICLE                       4941\n",
            "SPORT UTILITY / STATION WAGON           3751\n",
            "Pick-up Truck                           1670\n",
            "Taxi                                    1623\n",
            "Name: INDEX, dtype: int64\n",
            "-----------------------------------\n",
            "BROOKLYN VEHICLE\n",
            "Sedan                                  39459\n",
            "Station Wagon/Sport Utility Vehicle    32262\n",
            "PASSENGER VEHICLE                      10177\n",
            "SPORT UTILITY / STATION WAGON           8099\n",
            "Pick-up Truck                           3195\n",
            "Box Truck                               2367\n",
            "Name: INDEX, dtype: int64\n",
            "-----------------------------------\n",
            "MANHATTAN VEHICLE\n",
            "Sedan                                  20727\n",
            "Station Wagon/Sport Utility Vehicle    16432\n",
            "Taxi                                    8989\n",
            "PASSENGER VEHICLE                       5627\n",
            "SPORT UTILITY / STATION WAGON           4415\n",
            "Box Truck                               3545\n",
            "Name: INDEX, dtype: int64\n",
            "-----------------------------------\n",
            "QUEENS VEHICLE\n",
            "Sedan                                  35103\n",
            "Station Wagon/Sport Utility Vehicle    31647\n",
            "PASSENGER VEHICLE                       8952\n",
            "SPORT UTILITY / STATION WAGON           7890\n",
            "Pick-up Truck                           3119\n",
            "Taxi                                    1766\n",
            "Name: INDEX, dtype: int64\n",
            "-----------------------------------\n",
            "STATEN ISLAND VEHICLE\n",
            "Sedan                                  4773\n",
            "Station Wagon/Sport Utility Vehicle    3371\n",
            "PASSENGER VEHICLE                      1531\n",
            "SPORT UTILITY / STATION WAGON           904\n",
            "Pick-up Truck                           537\n",
            "PICK-UP TRUCK                           157\n",
            "Name: INDEX, dtype: int64\n",
            "-----------------------------------\n"
          ]
        }
      ]
    },
    {
      "cell_type": "markdown",
      "metadata": {
        "id": "SDkcrNRdQp1o"
      },
      "source": [
        "**Respuesta:** Se encuentra que en todos los municipios los tipos de vehiculos más involucrados en accidentes son: Sedan y Station Wagon/Sport Utility, además Passenger Vehicle está en tercer lugar en casi todos los municipios, excepto en Manhattan donde este lugar es ocupado por el Taxi"
      ]
    },
    {
      "cell_type": "code",
      "metadata": {
        "id": "LqWiT6QrQp1o",
        "colab": {
          "base_uri": "https://localhost:8080/"
        },
        "outputId": "c8a45c3a-6b93-4ce3-abab-c4691d20be2b"
      },
      "source": [
        "#RESULTADOS EN GENERAL\n",
        "vehiculos = [dfc['VEHICLE TYPE CODE 1'], dfc['VEHICLE TYPE CODE 2'], dfc['VEHICLE TYPE CODE 3'], dfc['VEHICLE TYPE CODE 4'], dfc['VEHICLE TYPE CODE 5']]\n",
        "dfVehiculos = pd.concat(vehiculos).reset_index()\n",
        "dfVehiculos.columns = ['INDEX', 'VEHICLE']\n",
        "dfVehiculos_accidents = dfVehiculos.groupby('VEHICLE')['INDEX'].nunique()\n",
        "print('-------Resultados en general-------------')\n",
        "dfVehiculos_accidents.sort_values(ascending=False)[:30]\n",
        "#dfVehiculos_accidents.filter(like='UTILITY')"
      ],
      "execution_count": 29,
      "outputs": [
        {
          "output_type": "stream",
          "name": "stdout",
          "text": [
            "-------Resultados en general-------------\n"
          ]
        },
        {
          "output_type": "execute_result",
          "data": {
            "text/plain": [
              "VEHICLE\n",
              "Sedan                                  119714\n",
              "Station Wagon/Sport Utility Vehicle     99146\n",
              "PASSENGER VEHICLE                       31228\n",
              "SPORT UTILITY / STATION WAGON           25059\n",
              "Taxi                                    14584\n",
              "Pick-up Truck                           10864\n",
              "Box Truck                                8509\n",
              "Bike                                     6264\n",
              "Bus                                      5848\n",
              "TAXI                                     4497\n",
              "PICK-UP TRUCK                            2774\n",
              "Van                                      2515\n",
              "Tractor Truck Diesel                     2317\n",
              "TK                                       2048\n",
              "Motorcycle                               1888\n",
              "BU                                       1720\n",
              "Dump                                     1105\n",
              "BICYCLE                                  1006\n",
              "Convertible                               987\n",
              "Ambulance                                 792\n",
              "PK                                        712\n",
              "Garbage or Refuse                         693\n",
              "Flat Bed                                  684\n",
              "VN                                        594\n",
              "DS                                        554\n",
              "Carry All                                 502\n",
              "Tractor Truck Gasoline                    388\n",
              "Tow Truck / Wrecker                       352\n",
              "DP                                        266\n",
              "MOTORCYCLE                                236\n",
              "Name: INDEX, dtype: int64"
            ]
          },
          "metadata": {},
          "execution_count": 29
        }
      ]
    },
    {
      "cell_type": "markdown",
      "metadata": {
        "id": "JZ4cn38vQp1p"
      },
      "source": [
        "### Ejercicio 11 \n",
        "\n",
        "En 2018 para una [entrevista](https://www.nytimes.com/2019/01/01/nyregion/traffic-deaths-decrease-nyc.html) con The New York Times, el alcalde de Blasio de Nueva York declaró que *'Vision Zero está funcionando claramente'*. Ese año, el número de muertes en accidentes de tráfico en Nueva York se redujo a un histórico 202. Sin embargo, según lo informado por [am New York Metro](https://www.amny.com/news/vision-zero-de-blasio- 1-30707464 /), el número de víctimas mortales ha aumentado un 30% en el primer trimestre de 2019 en comparación con el año anterior y el número de peatones y ciclistas heridos no ha experimentado ninguna mejora.\n",
        "\n",
        "¿Cómo utilizaría los datos proporcionados para comprender qué salió mal en el primer trimestre de 2019?\n",
        "\n",
        "\n",
        "> - [ ] Considere los accidentes del primer trimestre de 2019. Luego, busque las causas más comunes de accidentes en los que estuvieron involucrados peatones y ciclistas. Dé una recomendación basada únicamente en esta información.\n",
        "\n",
        "> - [ ] Cree un par de mapas de calor de los accidentes que involucraron a peatones y ciclistas lesionados / muertos en el primer trimestre de 2018 y 2019. Compare estos dos para ver si hay algún cambio en la concentración de accidentes. En áreas críticas, estudie el tipo de factores involucrados en los accidentes. Dé una recomendación para visitar estas áreas para estudiar más el problema.   \n",
        "\n",
        "> - [ ] Los datos proporcionados son insuficientes para mejorar nuestra comprensión de la situación.\n",
        "\n",
        "> - [ ] Ninguna de las anteriores. Haría lo siguiente: *aquí tu respuesta recomendada*."
      ]
    },
    {
      "cell_type": "markdown",
      "metadata": {
        "id": "aL7G3lA9Qp1r"
      },
      "source": [
        "**Respuesta.**\n"
      ]
    },
    {
      "cell_type": "code",
      "metadata": {
        "id": "FiWfIzD2Qp1r"
      },
      "source": [
        ""
      ],
      "execution_count": null,
      "outputs": []
    },
    {
      "cell_type": "markdown",
      "metadata": {
        "id": "a--DSvT7Qp1s"
      },
      "source": [
        "### Ejercicio 12 \n",
        "\n",
        "Calcula el número de muertes provocadas por cada tipo de vehículo. Trace un gráfico de barras para los 5 vehículos principales. ¿Qué vehículos están involucrados con mayor frecuencia en las muertes y cuánto más que los demás?\n",
        "\n",
        "**Por ejemplo,** si dos personas murieron en un accidente en el que estuvieron involucrados 5 vehículos: 4 son VEHÍCULOS DE PASAJEROS y 1 es un VAGÓN DEPORTIVO / ESTACIÓN. Luego, agregaríamos dos muertes a cada tipo de VEHÍCULO DE PASAJEROS y VAGÓN DE ESTACIÓN / SERVICIO DEPORTIVO.\n",
        "\n",
        "**Sugerencia:** Es posible que desee crear una nueva columna con el número total de muertes en el accidente. Para eso, puede encontrar útil la función ```.to_numpy()```. Luego, proceda como los ejercicios anteriores para evitar contabilizar dos veces el tipo de vehículos."
      ]
    },
    {
      "cell_type": "markdown",
      "metadata": {
        "id": "meVhNbOtQp1t"
      },
      "source": [
        "**Repsuesta.**"
      ]
    },
    {
      "cell_type": "code",
      "metadata": {
        "id": "EopcC4IZQp1u"
      },
      "source": [
        ""
      ],
      "execution_count": null,
      "outputs": []
    },
    {
      "cell_type": "markdown",
      "metadata": {
        "id": "VENCgfGqQp1v"
      },
      "source": [
        ""
      ]
    },
    {
      "cell_type": "code",
      "metadata": {
        "id": "TJsQx0mxQp1v"
      },
      "source": [
        ""
      ],
      "execution_count": null,
      "outputs": []
    },
    {
      "cell_type": "markdown",
      "metadata": {
        "id": "FQSVmBOKQp1w"
      },
      "source": [
        ""
      ]
    }
  ]
}